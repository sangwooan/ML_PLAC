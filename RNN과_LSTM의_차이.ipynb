{
  "nbformat": 4,
  "nbformat_minor": 0,
  "metadata": {
    "colab": {
      "provenance": [],
      "authorship_tag": "ABX9TyOmm5TwqQPlPECYE/QLTKKE",
      "include_colab_link": true
    },
    "kernelspec": {
      "name": "python3",
      "display_name": "Python 3"
    },
    "language_info": {
      "name": "python"
    }
  },
  "cells": [
    {
      "cell_type": "markdown",
      "metadata": {
        "id": "view-in-github",
        "colab_type": "text"
      },
      "source": [
        "<a href=\"https://colab.research.google.com/github/sangwooan/ML_PLAC/blob/main/RNN%EA%B3%BC_LSTM%EC%9D%98_%EC%B0%A8%EC%9D%B4.ipynb\" target=\"_parent\"><img src=\"https://colab.research.google.com/assets/colab-badge.svg\" alt=\"Open In Colab\"/></a>"
      ]
    },
    {
      "cell_type": "markdown",
      "source": [
        "# sin 곡선 예측 RNN 모델 사용"
      ],
      "metadata": {
        "id": "0lB4akoAtsnY"
      }
    },
    {
      "cell_type": "code",
      "source": [
        "import numpy as np\n",
        "import matplotlib.pyplot as plt\n",
        "\n",
        "from tensorflow.keras.models import Sequential\n",
        "from tensorflow.keras.layers import Flatten,Dense,LSTM,SimpleRNN"
      ],
      "metadata": {
        "id": "vf4MoFVAOfvK"
      },
      "execution_count": 1,
      "outputs": []
    },
    {
      "cell_type": "markdown",
      "source": [
        "time step만큼 시퀀스 데이터 분리"
      ],
      "metadata": {
        "id": "RM4KCXWft_R7"
      }
    },
    {
      "cell_type": "code",
      "source": [
        "def split_sequence(sequence,step):\n",
        "  x,y=list(),list()\n",
        "\n",
        "  for i in range(len(sequence)):\n",
        "    end_idx=i+step\n",
        "    if end_idx > len(sequence)-1:\n",
        "      break\n",
        "\n",
        "    seq_x,seq_y=sequence[i:end_idx],sequence[end_idx]\n",
        "    x.append(seq_x)\n",
        "    y.append(seq_y)\n",
        "\n",
        "  return np.array(x), np.array(y)"
      ],
      "metadata": {
        "id": "OPLVngszPA1w"
      },
      "execution_count": 2,
      "outputs": []
    },
    {
      "cell_type": "markdown",
      "source": [
        "sin 함수 학습 데이터"
      ],
      "metadata": {
        "id": "SNVGAzzYuqLH"
      }
    },
    {
      "cell_type": "code",
      "source": [
        "x=[i for i in np.arange(start=-10,stop=10,step=0.1)]\n",
        "train_y=[np.sin(i) for i in x]"
      ],
      "metadata": {
        "id": "Y28QxiwOuoSi"
      },
      "execution_count": 3,
      "outputs": []
    },
    {
      "cell_type": "markdown",
      "source": [
        "하이퍼파라미터"
      ],
      "metadata": {
        "id": "CRC-3PORvJOd"
      }
    },
    {
      "cell_type": "code",
      "source": [
        "n_timesteps=15\n",
        "n_feature=1"
      ],
      "metadata": {
        "id": "Ke8lyTL4vHE8"
      },
      "execution_count": 4,
      "outputs": []
    },
    {
      "cell_type": "markdown",
      "source": [
        "시퀀스 나누기"
      ],
      "metadata": {
        "id": "n38x2leJvPLN"
      }
    },
    {
      "cell_type": "code",
      "source": [
        "train_x,train_y=split_sequence(train_y,step=n_timesteps)\n",
        "train_x_lstm=train_x\n",
        "train_y_lstm=train_y\n",
        "print('shape x: {} / y: {}'.format(train_x.shape,train_y.shape))"
      ],
      "metadata": {
        "colab": {
          "base_uri": "https://localhost:8080/"
        },
        "id": "8qhjEd-3vOFz",
        "outputId": "fd4364ff-99cf-4884-9fbb-27ee9fe00447"
      },
      "execution_count": 5,
      "outputs": [
        {
          "output_type": "stream",
          "name": "stdout",
          "text": [
            "shape x: (185, 15) / y: (185,)\n"
          ]
        }
      ]
    },
    {
      "cell_type": "markdown",
      "source": [
        "RNN 입력 벡터 크기를 맞추기 위해 벡터 차원 크기 변경\n",
        "\n",
        "reshape from [samples, timesteps] into [samples, timesteps, features]"
      ],
      "metadata": {
        "id": "Fnj8Bxa6viXa"
      }
    },
    {
      "cell_type": "code",
      "source": [
        "train_x=train_x.reshape(train_x.shape[0],train_x.shape[1],n_feature)\n",
        "print('train_x.shape= {}'.format(train_x.shape))\n",
        "print('train_y.shape= {}'.format(train_y.shape))"
      ],
      "metadata": {
        "colab": {
          "base_uri": "https://localhost:8080/"
        },
        "id": "RFJUFLqnvgT1",
        "outputId": "9a9dc13c-f305-45dd-a725-be519d8a1c40"
      },
      "execution_count": 6,
      "outputs": [
        {
          "output_type": "stream",
          "name": "stdout",
          "text": [
            "train_x.shape= (185, 15, 1)\n",
            "train_y.shape= (185,)\n"
          ]
        }
      ]
    },
    {
      "cell_type": "markdown",
      "source": [
        "rnn 모델 정의"
      ],
      "metadata": {
        "id": "SEO-LVMbwPan"
      }
    },
    {
      "cell_type": "code",
      "source": [
        "model= Sequential()\n",
        "model.add(SimpleRNN(units=10,return_sequences=False,input_shape=(n_timesteps,n_feature)))\n",
        "model.add(Dense(1))\n",
        "model.compile(optimizer='adam',loss='mse')"
      ],
      "metadata": {
        "id": "qwNVPp_AwNnV"
      },
      "execution_count": 7,
      "outputs": []
    },
    {
      "cell_type": "markdown",
      "source": [
        "모델 학습"
      ],
      "metadata": {
        "id": "r5AAwlSuwq7p"
      }
    },
    {
      "cell_type": "code",
      "source": [
        "np.random.seed(0)\n",
        "from tensorflow.keras.callbacks import EarlyStopping\n",
        "early_stopping=EarlyStopping(\n",
        "    monitor='loss',\n",
        "    patience=5,\n",
        "    mode='auto'\n",
        ")\n",
        "history=model.fit(train_x,train_y,epochs=1000,callbacks=[early_stopping])"
      ],
      "metadata": {
        "colab": {
          "base_uri": "https://localhost:8080/"
        },
        "id": "_3TQBBnywmVJ",
        "outputId": "3147ffd9-e7de-47e3-9bc5-a9be13c62e3c"
      },
      "execution_count": 8,
      "outputs": [
        {
          "output_type": "stream",
          "name": "stdout",
          "text": [
            "Epoch 1/1000\n",
            "6/6 [==============================] - 2s 9ms/step - loss: 0.1652\n",
            "Epoch 2/1000\n",
            "6/6 [==============================] - 0s 8ms/step - loss: 0.1143\n",
            "Epoch 3/1000\n",
            "6/6 [==============================] - 0s 8ms/step - loss: 0.0768\n",
            "Epoch 4/1000\n",
            "6/6 [==============================] - 0s 8ms/step - loss: 0.0501\n",
            "Epoch 5/1000\n",
            "6/6 [==============================] - 0s 9ms/step - loss: 0.0315\n",
            "Epoch 6/1000\n",
            "6/6 [==============================] - 0s 11ms/step - loss: 0.0204\n",
            "Epoch 7/1000\n",
            "6/6 [==============================] - 0s 8ms/step - loss: 0.0142\n",
            "Epoch 8/1000\n",
            "6/6 [==============================] - 0s 8ms/step - loss: 0.0110\n",
            "Epoch 9/1000\n",
            "6/6 [==============================] - 0s 14ms/step - loss: 0.0095\n",
            "Epoch 10/1000\n",
            "6/6 [==============================] - 0s 12ms/step - loss: 0.0086\n",
            "Epoch 11/1000\n",
            "6/6 [==============================] - 0s 7ms/step - loss: 0.0078\n",
            "Epoch 12/1000\n",
            "6/6 [==============================] - 0s 7ms/step - loss: 0.0071\n",
            "Epoch 13/1000\n",
            "6/6 [==============================] - 0s 8ms/step - loss: 0.0063\n",
            "Epoch 14/1000\n",
            "6/6 [==============================] - 0s 7ms/step - loss: 0.0056\n",
            "Epoch 15/1000\n",
            "6/6 [==============================] - 0s 7ms/step - loss: 0.0049\n",
            "Epoch 16/1000\n",
            "6/6 [==============================] - 0s 7ms/step - loss: 0.0043\n",
            "Epoch 17/1000\n",
            "6/6 [==============================] - 0s 12ms/step - loss: 0.0038\n",
            "Epoch 18/1000\n",
            "6/6 [==============================] - 0s 17ms/step - loss: 0.0034\n",
            "Epoch 19/1000\n",
            "6/6 [==============================] - 0s 13ms/step - loss: 0.0030\n",
            "Epoch 20/1000\n",
            "6/6 [==============================] - 0s 10ms/step - loss: 0.0027\n",
            "Epoch 21/1000\n",
            "6/6 [==============================] - 0s 9ms/step - loss: 0.0023\n",
            "Epoch 22/1000\n",
            "6/6 [==============================] - 0s 8ms/step - loss: 0.0021\n",
            "Epoch 23/1000\n",
            "6/6 [==============================] - 0s 8ms/step - loss: 0.0019\n",
            "Epoch 24/1000\n",
            "6/6 [==============================] - 0s 7ms/step - loss: 0.0017\n",
            "Epoch 25/1000\n",
            "6/6 [==============================] - 0s 7ms/step - loss: 0.0015\n",
            "Epoch 26/1000\n",
            "6/6 [==============================] - 0s 7ms/step - loss: 0.0014\n",
            "Epoch 27/1000\n",
            "6/6 [==============================] - 0s 8ms/step - loss: 0.0013\n",
            "Epoch 28/1000\n",
            "6/6 [==============================] - 0s 9ms/step - loss: 0.0012\n",
            "Epoch 29/1000\n",
            "6/6 [==============================] - 0s 7ms/step - loss: 0.0011\n",
            "Epoch 30/1000\n",
            "6/6 [==============================] - 0s 7ms/step - loss: 0.0010\n",
            "Epoch 31/1000\n",
            "6/6 [==============================] - 0s 10ms/step - loss: 9.4224e-04\n",
            "Epoch 32/1000\n",
            "6/6 [==============================] - 0s 11ms/step - loss: 8.7275e-04\n",
            "Epoch 33/1000\n",
            "6/6 [==============================] - 0s 8ms/step - loss: 8.0911e-04\n",
            "Epoch 34/1000\n",
            "6/6 [==============================] - 0s 7ms/step - loss: 7.4696e-04\n",
            "Epoch 35/1000\n",
            "6/6 [==============================] - 0s 7ms/step - loss: 6.9473e-04\n",
            "Epoch 36/1000\n",
            "6/6 [==============================] - 0s 7ms/step - loss: 6.4068e-04\n",
            "Epoch 37/1000\n",
            "6/6 [==============================] - 0s 12ms/step - loss: 5.9615e-04\n",
            "Epoch 38/1000\n",
            "6/6 [==============================] - 0s 7ms/step - loss: 5.5762e-04\n",
            "Epoch 39/1000\n",
            "6/6 [==============================] - 0s 7ms/step - loss: 5.1414e-04\n",
            "Epoch 40/1000\n",
            "6/6 [==============================] - 0s 7ms/step - loss: 4.7656e-04\n",
            "Epoch 41/1000\n",
            "6/6 [==============================] - 0s 9ms/step - loss: 4.4434e-04\n",
            "Epoch 42/1000\n",
            "6/6 [==============================] - 0s 7ms/step - loss: 4.1239e-04\n",
            "Epoch 43/1000\n",
            "6/6 [==============================] - 0s 8ms/step - loss: 3.8339e-04\n",
            "Epoch 44/1000\n",
            "6/6 [==============================] - 0s 11ms/step - loss: 3.5440e-04\n",
            "Epoch 45/1000\n",
            "6/6 [==============================] - 0s 7ms/step - loss: 3.3142e-04\n",
            "Epoch 46/1000\n",
            "6/6 [==============================] - 0s 7ms/step - loss: 3.0976e-04\n",
            "Epoch 47/1000\n",
            "6/6 [==============================] - 0s 13ms/step - loss: 2.8910e-04\n",
            "Epoch 48/1000\n",
            "6/6 [==============================] - 0s 19ms/step - loss: 2.7193e-04\n",
            "Epoch 49/1000\n",
            "6/6 [==============================] - 0s 11ms/step - loss: 2.5502e-04\n",
            "Epoch 50/1000\n",
            "6/6 [==============================] - 0s 8ms/step - loss: 2.3668e-04\n",
            "Epoch 51/1000\n",
            "6/6 [==============================] - 0s 8ms/step - loss: 2.2025e-04\n",
            "Epoch 52/1000\n",
            "6/6 [==============================] - 0s 8ms/step - loss: 2.0683e-04\n",
            "Epoch 53/1000\n",
            "6/6 [==============================] - 0s 10ms/step - loss: 1.9303e-04\n",
            "Epoch 54/1000\n",
            "6/6 [==============================] - 0s 8ms/step - loss: 1.8172e-04\n",
            "Epoch 55/1000\n",
            "6/6 [==============================] - 0s 9ms/step - loss: 1.7040e-04\n",
            "Epoch 56/1000\n",
            "6/6 [==============================] - 0s 14ms/step - loss: 1.6078e-04\n",
            "Epoch 57/1000\n",
            "6/6 [==============================] - 0s 16ms/step - loss: 1.5098e-04\n",
            "Epoch 58/1000\n",
            "6/6 [==============================] - 0s 13ms/step - loss: 1.4181e-04\n",
            "Epoch 59/1000\n",
            "6/6 [==============================] - 0s 10ms/step - loss: 1.3512e-04\n",
            "Epoch 60/1000\n",
            "6/6 [==============================] - 0s 8ms/step - loss: 1.2702e-04\n",
            "Epoch 61/1000\n",
            "6/6 [==============================] - 0s 8ms/step - loss: 1.2011e-04\n",
            "Epoch 62/1000\n",
            "6/6 [==============================] - 0s 8ms/step - loss: 1.1461e-04\n",
            "Epoch 63/1000\n",
            "6/6 [==============================] - 0s 14ms/step - loss: 1.0876e-04\n",
            "Epoch 64/1000\n",
            "6/6 [==============================] - 0s 9ms/step - loss: 1.0340e-04\n",
            "Epoch 65/1000\n",
            "6/6 [==============================] - 0s 7ms/step - loss: 9.7848e-05\n",
            "Epoch 66/1000\n",
            "6/6 [==============================] - 0s 7ms/step - loss: 9.4249e-05\n",
            "Epoch 67/1000\n",
            "6/6 [==============================] - 0s 7ms/step - loss: 9.0892e-05\n",
            "Epoch 68/1000\n",
            "6/6 [==============================] - 0s 6ms/step - loss: 8.6313e-05\n",
            "Epoch 69/1000\n",
            "6/6 [==============================] - 0s 11ms/step - loss: 8.2873e-05\n",
            "Epoch 70/1000\n",
            "6/6 [==============================] - 0s 12ms/step - loss: 7.9135e-05\n",
            "Epoch 71/1000\n",
            "6/6 [==============================] - 0s 9ms/step - loss: 7.7588e-05\n",
            "Epoch 72/1000\n",
            "6/6 [==============================] - 0s 9ms/step - loss: 7.3709e-05\n",
            "Epoch 73/1000\n",
            "6/6 [==============================] - 0s 11ms/step - loss: 7.1227e-05\n",
            "Epoch 74/1000\n",
            "6/6 [==============================] - 0s 9ms/step - loss: 6.8686e-05\n",
            "Epoch 75/1000\n",
            "6/6 [==============================] - 0s 7ms/step - loss: 6.6199e-05\n",
            "Epoch 76/1000\n",
            "6/6 [==============================] - 0s 9ms/step - loss: 6.4076e-05\n",
            "Epoch 77/1000\n",
            "6/6 [==============================] - 0s 11ms/step - loss: 6.2032e-05\n",
            "Epoch 78/1000\n",
            "6/6 [==============================] - 0s 10ms/step - loss: 6.1376e-05\n",
            "Epoch 79/1000\n",
            "6/6 [==============================] - 0s 9ms/step - loss: 5.8905e-05\n",
            "Epoch 80/1000\n",
            "6/6 [==============================] - 0s 7ms/step - loss: 5.7719e-05\n",
            "Epoch 81/1000\n",
            "6/6 [==============================] - 0s 7ms/step - loss: 5.5552e-05\n",
            "Epoch 82/1000\n",
            "6/6 [==============================] - 0s 7ms/step - loss: 5.3645e-05\n",
            "Epoch 83/1000\n",
            "6/6 [==============================] - 0s 13ms/step - loss: 5.1513e-05\n",
            "Epoch 84/1000\n",
            "6/6 [==============================] - 0s 16ms/step - loss: 5.1037e-05\n",
            "Epoch 85/1000\n",
            "6/6 [==============================] - 0s 9ms/step - loss: 4.8715e-05\n",
            "Epoch 86/1000\n",
            "6/6 [==============================] - 0s 8ms/step - loss: 4.7634e-05\n",
            "Epoch 87/1000\n",
            "6/6 [==============================] - 0s 9ms/step - loss: 4.7080e-05\n",
            "Epoch 88/1000\n",
            "6/6 [==============================] - 0s 9ms/step - loss: 4.5100e-05\n",
            "Epoch 89/1000\n",
            "6/6 [==============================] - 0s 7ms/step - loss: 4.5757e-05\n",
            "Epoch 90/1000\n",
            "6/6 [==============================] - 0s 7ms/step - loss: 4.3800e-05\n",
            "Epoch 91/1000\n",
            "6/6 [==============================] - 0s 14ms/step - loss: 4.2773e-05\n",
            "Epoch 92/1000\n",
            "6/6 [==============================] - 0s 9ms/step - loss: 4.1038e-05\n",
            "Epoch 93/1000\n",
            "6/6 [==============================] - 0s 11ms/step - loss: 4.0458e-05\n",
            "Epoch 94/1000\n",
            "6/6 [==============================] - 0s 9ms/step - loss: 3.8942e-05\n",
            "Epoch 95/1000\n",
            "6/6 [==============================] - 0s 18ms/step - loss: 3.8956e-05\n",
            "Epoch 96/1000\n",
            "6/6 [==============================] - 0s 15ms/step - loss: 3.7734e-05\n",
            "Epoch 97/1000\n",
            "6/6 [==============================] - 0s 12ms/step - loss: 3.6765e-05\n",
            "Epoch 98/1000\n",
            "6/6 [==============================] - 0s 7ms/step - loss: 3.5309e-05\n",
            "Epoch 99/1000\n",
            "6/6 [==============================] - 0s 7ms/step - loss: 3.4527e-05\n",
            "Epoch 100/1000\n",
            "6/6 [==============================] - 0s 8ms/step - loss: 3.4537e-05\n",
            "Epoch 101/1000\n",
            "6/6 [==============================] - 0s 7ms/step - loss: 3.3376e-05\n",
            "Epoch 102/1000\n",
            "6/6 [==============================] - 0s 8ms/step - loss: 3.2193e-05\n",
            "Epoch 103/1000\n",
            "6/6 [==============================] - 0s 12ms/step - loss: 3.1791e-05\n",
            "Epoch 104/1000\n",
            "6/6 [==============================] - 0s 9ms/step - loss: 3.0705e-05\n",
            "Epoch 105/1000\n",
            "6/6 [==============================] - 0s 9ms/step - loss: 3.0323e-05\n",
            "Epoch 106/1000\n",
            "6/6 [==============================] - 0s 15ms/step - loss: 3.0286e-05\n",
            "Epoch 107/1000\n",
            "6/6 [==============================] - 0s 11ms/step - loss: 3.0523e-05\n",
            "Epoch 108/1000\n",
            "6/6 [==============================] - 0s 8ms/step - loss: 2.8477e-05\n",
            "Epoch 109/1000\n",
            "6/6 [==============================] - 0s 12ms/step - loss: 2.8057e-05\n",
            "Epoch 110/1000\n",
            "6/6 [==============================] - 0s 13ms/step - loss: 2.7532e-05\n",
            "Epoch 111/1000\n",
            "6/6 [==============================] - 0s 9ms/step - loss: 2.8116e-05\n",
            "Epoch 112/1000\n",
            "6/6 [==============================] - 0s 13ms/step - loss: 2.7743e-05\n",
            "Epoch 113/1000\n",
            "6/6 [==============================] - 0s 10ms/step - loss: 2.5798e-05\n",
            "Epoch 114/1000\n",
            "6/6 [==============================] - 0s 7ms/step - loss: 2.5316e-05\n",
            "Epoch 115/1000\n",
            "6/6 [==============================] - 0s 7ms/step - loss: 2.5829e-05\n",
            "Epoch 116/1000\n",
            "6/6 [==============================] - 0s 7ms/step - loss: 2.4129e-05\n",
            "Epoch 117/1000\n",
            "6/6 [==============================] - 0s 8ms/step - loss: 2.5241e-05\n",
            "Epoch 118/1000\n",
            "6/6 [==============================] - 0s 8ms/step - loss: 2.3768e-05\n",
            "Epoch 119/1000\n",
            "6/6 [==============================] - 0s 7ms/step - loss: 2.3582e-05\n",
            "Epoch 120/1000\n",
            "6/6 [==============================] - 0s 8ms/step - loss: 2.3377e-05\n",
            "Epoch 121/1000\n",
            "6/6 [==============================] - 0s 12ms/step - loss: 2.2204e-05\n",
            "Epoch 122/1000\n",
            "6/6 [==============================] - 0s 9ms/step - loss: 2.2182e-05\n",
            "Epoch 123/1000\n",
            "6/6 [==============================] - 0s 10ms/step - loss: 2.1678e-05\n",
            "Epoch 124/1000\n",
            "6/6 [==============================] - 0s 9ms/step - loss: 2.1877e-05\n",
            "Epoch 125/1000\n",
            "6/6 [==============================] - 0s 7ms/step - loss: 2.2357e-05\n",
            "Epoch 126/1000\n",
            "6/6 [==============================] - 0s 7ms/step - loss: 2.2109e-05\n",
            "Epoch 127/1000\n",
            "6/6 [==============================] - 0s 7ms/step - loss: 2.0831e-05\n",
            "Epoch 128/1000\n",
            "6/6 [==============================] - 0s 8ms/step - loss: 2.0461e-05\n",
            "Epoch 129/1000\n",
            "6/6 [==============================] - 0s 9ms/step - loss: 2.1301e-05\n",
            "Epoch 130/1000\n",
            "6/6 [==============================] - 0s 8ms/step - loss: 1.9583e-05\n",
            "Epoch 131/1000\n",
            "6/6 [==============================] - 0s 12ms/step - loss: 2.0601e-05\n",
            "Epoch 132/1000\n",
            "6/6 [==============================] - 0s 9ms/step - loss: 2.0009e-05\n",
            "Epoch 133/1000\n",
            "6/6 [==============================] - 0s 9ms/step - loss: 2.0095e-05\n",
            "Epoch 134/1000\n",
            "6/6 [==============================] - 0s 19ms/step - loss: 1.9013e-05\n",
            "Epoch 135/1000\n",
            "6/6 [==============================] - 0s 10ms/step - loss: 1.8758e-05\n",
            "Epoch 136/1000\n",
            "6/6 [==============================] - 0s 8ms/step - loss: 1.8522e-05\n",
            "Epoch 137/1000\n",
            "6/6 [==============================] - 0s 8ms/step - loss: 1.8316e-05\n",
            "Epoch 138/1000\n",
            "6/6 [==============================] - 0s 7ms/step - loss: 1.8191e-05\n",
            "Epoch 139/1000\n",
            "6/6 [==============================] - 0s 9ms/step - loss: 1.8499e-05\n",
            "Epoch 140/1000\n",
            "6/6 [==============================] - 0s 7ms/step - loss: 1.7940e-05\n",
            "Epoch 141/1000\n",
            "6/6 [==============================] - 0s 11ms/step - loss: 1.8013e-05\n",
            "Epoch 142/1000\n",
            "6/6 [==============================] - 0s 8ms/step - loss: 1.7831e-05\n",
            "Epoch 143/1000\n",
            "6/6 [==============================] - 0s 17ms/step - loss: 1.7852e-05\n",
            "Epoch 144/1000\n",
            "6/6 [==============================] - 0s 7ms/step - loss: 1.7284e-05\n",
            "Epoch 145/1000\n",
            "6/6 [==============================] - 0s 7ms/step - loss: 1.6886e-05\n",
            "Epoch 146/1000\n",
            "6/6 [==============================] - 0s 9ms/step - loss: 1.6796e-05\n",
            "Epoch 147/1000\n",
            "6/6 [==============================] - 0s 10ms/step - loss: 1.7020e-05\n",
            "Epoch 148/1000\n",
            "6/6 [==============================] - 0s 13ms/step - loss: 1.6615e-05\n",
            "Epoch 149/1000\n",
            "6/6 [==============================] - 0s 15ms/step - loss: 1.6344e-05\n",
            "Epoch 150/1000\n",
            "6/6 [==============================] - 0s 13ms/step - loss: 1.6504e-05\n",
            "Epoch 151/1000\n",
            "6/6 [==============================] - 0s 9ms/step - loss: 1.7337e-05\n",
            "Epoch 152/1000\n",
            "6/6 [==============================] - 0s 7ms/step - loss: 1.6769e-05\n",
            "Epoch 153/1000\n",
            "6/6 [==============================] - 0s 7ms/step - loss: 1.6633e-05\n",
            "Epoch 154/1000\n",
            "6/6 [==============================] - 0s 7ms/step - loss: 1.6036e-05\n",
            "Epoch 155/1000\n",
            "6/6 [==============================] - 0s 15ms/step - loss: 1.6017e-05\n",
            "Epoch 156/1000\n",
            "6/6 [==============================] - 0s 13ms/step - loss: 1.6230e-05\n",
            "Epoch 157/1000\n",
            "6/6 [==============================] - 0s 17ms/step - loss: 1.7173e-05\n",
            "Epoch 158/1000\n",
            "6/6 [==============================] - 0s 15ms/step - loss: 1.6304e-05\n",
            "Epoch 159/1000\n",
            "6/6 [==============================] - 0s 14ms/step - loss: 1.5550e-05\n",
            "Epoch 160/1000\n",
            "6/6 [==============================] - 0s 12ms/step - loss: 1.5447e-05\n",
            "Epoch 161/1000\n",
            "6/6 [==============================] - 0s 12ms/step - loss: 1.5814e-05\n",
            "Epoch 162/1000\n",
            "6/6 [==============================] - 0s 8ms/step - loss: 1.5392e-05\n",
            "Epoch 163/1000\n",
            "6/6 [==============================] - 0s 9ms/step - loss: 1.5653e-05\n",
            "Epoch 164/1000\n",
            "6/6 [==============================] - 0s 7ms/step - loss: 1.4928e-05\n",
            "Epoch 165/1000\n",
            "6/6 [==============================] - 0s 10ms/step - loss: 1.5559e-05\n",
            "Epoch 166/1000\n",
            "6/6 [==============================] - 0s 12ms/step - loss: 1.5013e-05\n",
            "Epoch 167/1000\n",
            "6/6 [==============================] - 0s 11ms/step - loss: 1.5292e-05\n",
            "Epoch 168/1000\n",
            "6/6 [==============================] - 0s 7ms/step - loss: 1.5875e-05\n",
            "Epoch 169/1000\n",
            "6/6 [==============================] - 0s 9ms/step - loss: 1.5006e-05\n"
          ]
        }
      ]
    },
    {
      "cell_type": "markdown",
      "source": [
        "loss 그래프 생성"
      ],
      "metadata": {
        "id": "N4hRsh25xWeP"
      }
    },
    {
      "cell_type": "code",
      "source": [
        "plt.plot(history.history['loss'],label='loss')\n",
        "plt.legend(loc='upper right')\n",
        "plt.show()"
      ],
      "metadata": {
        "colab": {
          "base_uri": "https://localhost:8080/",
          "height": 265
        },
        "id": "jZTAwxlOxJxA",
        "outputId": "390c6efd-f915-4617-90b4-9678e85a6326"
      },
      "execution_count": 9,
      "outputs": [
        {
          "output_type": "display_data",
          "data": {
            "text/plain": [
              "<Figure size 432x288 with 1 Axes>"
            ],
            "image/png": "[encoded data removed]"
          },
          "metadata": {
            "needs_background": "light"
          }
        }
      ]
    },
    {
      "cell_type": "markdown",
      "source": [
        "테스트 데이터셋 생성"
      ],
      "metadata": {
        "id": "hhjaShIBxmYy"
      }
    },
    {
      "cell_type": "code",
      "source": [
        "test_x=np.arange(10,20,0.1)\n",
        "calc_y=np.cos(test_x)"
      ],
      "metadata": {
        "id": "TT0Kbi9Uxj9o"
      },
      "execution_count": 10,
      "outputs": []
    },
    {
      "cell_type": "markdown",
      "source": [
        "rnn 모델 예측 및 로그 저장"
      ],
      "metadata": {
        "id": "LtTJUzF4x0DU"
      }
    },
    {
      "cell_type": "code",
      "source": [
        "test_y=calc_y[:n_timesteps]\n",
        "for i in range(len(test_x)-n_timesteps):\n",
        "  net_input=test_y[i:i+n_timesteps]\n",
        "  net_input=net_input.reshape((1,n_timesteps,n_feature))\n",
        "  train_y=model.predict(net_input,verbose=0)\n",
        "  print(test_y.shape,train_y.shape,i,i+n_timesteps)\n",
        "  test_y=np.append(test_y,train_y)"
      ],
      "metadata": {
        "colab": {
          "base_uri": "https://localhost:8080/"
        },
        "id": "ymzFWBMnxzom",
        "outputId": "022fd13c-2e4a-481d-ff38-7140886e8ce0"
      },
      "execution_count": 11,
      "outputs": [
        {
          "output_type": "stream",
          "name": "stdout",
          "text": [
            "(15,) (1, 1) 0 15\n",
            "(16,) (1, 1) 1 16\n",
            "(17,) (1, 1) 2 17\n",
            "(18,) (1, 1) 3 18\n",
            "(19,) (1, 1) 4 19\n",
            "(20,) (1, 1) 5 20\n",
            "(21,) (1, 1) 6 21\n",
            "(22,) (1, 1) 7 22\n",
            "(23,) (1, 1) 8 23\n",
            "(24,) (1, 1) 9 24\n",
            "(25,) (1, 1) 10 25\n",
            "(26,) (1, 1) 11 26\n",
            "(27,) (1, 1) 12 27\n",
            "(28,) (1, 1) 13 28\n",
            "(29,) (1, 1) 14 29\n",
            "(30,) (1, 1) 15 30\n",
            "(31,) (1, 1) 16 31\n",
            "(32,) (1, 1) 17 32\n",
            "(33,) (1, 1) 18 33\n",
            "(34,) (1, 1) 19 34\n",
            "(35,) (1, 1) 20 35\n",
            "(36,) (1, 1) 21 36\n",
            "(37,) (1, 1) 22 37\n",
            "(38,) (1, 1) 23 38\n",
            "(39,) (1, 1) 24 39\n",
            "(40,) (1, 1) 25 40\n",
            "(41,) (1, 1) 26 41\n",
            "(42,) (1, 1) 27 42\n",
            "(43,) (1, 1) 28 43\n",
            "(44,) (1, 1) 29 44\n",
            "(45,) (1, 1) 30 45\n",
            "(46,) (1, 1) 31 46\n",
            "(47,) (1, 1) 32 47\n",
            "(48,) (1, 1) 33 48\n",
            "(49,) (1, 1) 34 49\n",
            "(50,) (1, 1) 35 50\n",
            "(51,) (1, 1) 36 51\n",
            "(52,) (1, 1) 37 52\n",
            "(53,) (1, 1) 38 53\n",
            "(54,) (1, 1) 39 54\n",
            "(55,) (1, 1) 40 55\n",
            "(56,) (1, 1) 41 56\n",
            "(57,) (1, 1) 42 57\n",
            "(58,) (1, 1) 43 58\n",
            "(59,) (1, 1) 44 59\n",
            "(60,) (1, 1) 45 60\n",
            "(61,) (1, 1) 46 61\n",
            "(62,) (1, 1) 47 62\n",
            "(63,) (1, 1) 48 63\n",
            "(64,) (1, 1) 49 64\n",
            "(65,) (1, 1) 50 65\n",
            "(66,) (1, 1) 51 66\n",
            "(67,) (1, 1) 52 67\n",
            "(68,) (1, 1) 53 68\n",
            "(69,) (1, 1) 54 69\n",
            "(70,) (1, 1) 55 70\n",
            "(71,) (1, 1) 56 71\n",
            "(72,) (1, 1) 57 72\n",
            "(73,) (1, 1) 58 73\n",
            "(74,) (1, 1) 59 74\n",
            "(75,) (1, 1) 60 75\n",
            "(76,) (1, 1) 61 76\n",
            "(77,) (1, 1) 62 77\n",
            "(78,) (1, 1) 63 78\n",
            "(79,) (1, 1) 64 79\n",
            "(80,) (1, 1) 65 80\n",
            "(81,) (1, 1) 66 81\n",
            "(82,) (1, 1) 67 82\n",
            "(83,) (1, 1) 68 83\n",
            "(84,) (1, 1) 69 84\n",
            "(85,) (1, 1) 70 85\n",
            "(86,) (1, 1) 71 86\n",
            "(87,) (1, 1) 72 87\n",
            "(88,) (1, 1) 73 88\n",
            "(89,) (1, 1) 74 89\n",
            "(90,) (1, 1) 75 90\n",
            "(91,) (1, 1) 76 91\n",
            "(92,) (1, 1) 77 92\n",
            "(93,) (1, 1) 78 93\n",
            "(94,) (1, 1) 79 94\n",
            "(95,) (1, 1) 80 95\n",
            "(96,) (1, 1) 81 96\n",
            "(97,) (1, 1) 82 97\n",
            "(98,) (1, 1) 83 98\n",
            "(99,) (1, 1) 84 99\n"
          ]
        }
      ]
    },
    {
      "cell_type": "markdown",
      "source": [
        "예측 결과 그래프 그리기"
      ],
      "metadata": {
        "id": "S4KrMMxzyyue"
      }
    },
    {
      "cell_type": "code",
      "source": [
        "plt.plot(test_x,calc_y,label='ground truth',color='orange')\n",
        "plt.plot(test_x,test_y,label='precitions',color='blue')\n",
        "plt.legend(loc='upper left')\n",
        "plt.ylim(-2,2)\n",
        "plt.show()"
      ],
      "metadata": {
        "colab": {
          "base_uri": "https://localhost:8080/",
          "height": 269
        },
        "id": "WHH5kKwZyi_E",
        "outputId": "5747a379-19b3-43dd-f533-a2b4b865563a"
      },
      "execution_count": 12,
      "outputs": [
        {
          "output_type": "display_data",
          "data": {
            "text/plain": [
              "<Figure size 432x288 with 1 Axes>"
            ],
            "image/png": "[encoded data removed]"
          },
          "metadata": {
            "needs_background": "light"
          }
        }
      ]
    },
    {
      "cell_type": "markdown",
      "source": [
        "# LSTM 사용하기\n"
      ],
      "metadata": {
        "id": "JLMOqJSc1o6q"
      }
    },
    {
      "cell_type": "markdown",
      "source": [
        "RNN 모델은 입력 시퀀스의 시점(time step)이 길어질수록 앞쪽의 데이터가 뒤쪽으로 잘 전달되지 않아 학습 능력이 떨어진다.\n",
        "\n",
        "또한 RNN을 다층 구조로 쌓으면 입력과 출력 데이터 사이의 연관 관계가 줄어들어 장기 의존성 문제가 생긴다.\n",
        "\n",
        "문제를 보완하기 위해 기존 RNN을 LSTM으로 변형했다."
      ],
      "metadata": {
        "id": "f6TTPmkf1sU3"
      }
    },
    {
      "cell_type": "markdown",
      "source": [
        "LSTM 모델 정의"
      ],
      "metadata": {
        "id": "O8_RQFBk2lWr"
      }
    },
    {
      "cell_type": "code",
      "source": [
        "model_lstm=Sequential()\n",
        "model_lstm.add(LSTM(\n",
        "    units=10,\n",
        "    return_sequences=False,\n",
        "    input_shape=(n_timesteps,n_feature)\n",
        "))\n",
        "model_lstm.add(Dense(1))\n",
        "model_lstm.compile(\n",
        "    optimizer='adam',\n",
        "    loss='mse'\n",
        ")"
      ],
      "metadata": {
        "id": "CSvz_QJdzDyY"
      },
      "execution_count": 13,
      "outputs": []
    },
    {
      "cell_type": "markdown",
      "source": [
        "모델 학습"
      ],
      "metadata": {
        "id": "6Aidszj53D2S"
      }
    },
    {
      "cell_type": "code",
      "source": [
        "print('shape x: {} / y: {}'.format(train_x_lstm.shape,train_y_lstm.shape))"
      ],
      "metadata": {
        "colab": {
          "base_uri": "https://localhost:8080/"
        },
        "id": "0OU9OBbO4Vh_",
        "outputId": "8e468693-9be6-4df9-c1fb-3b4eee07c2bf"
      },
      "execution_count": 14,
      "outputs": [
        {
          "output_type": "stream",
          "name": "stdout",
          "text": [
            "shape x: (185, 15) / y: (185,)\n"
          ]
        }
      ]
    },
    {
      "cell_type": "code",
      "source": [
        "train_x_lstm=train_x_lstm.reshape(\n",
        "    train_x_lstm.shape[0],\n",
        "    train_x_lstm.shape[1],\n",
        "    n_feature\n",
        ")"
      ],
      "metadata": {
        "id": "AeGj5Dji3-ka"
      },
      "execution_count": 15,
      "outputs": []
    },
    {
      "cell_type": "code",
      "source": [
        "np.random.seed(0)\n",
        "history_lstm=model_lstm.fit(\n",
        "    train_x_lstm,train_y_lstm,epochs=1000,callbacks=[early_stopping]\n",
        ")"
      ],
      "metadata": {
        "colab": {
          "base_uri": "https://localhost:8080/"
        },
        "id": "ad1CnqWB2_2J",
        "outputId": "22ad0129-f70a-4e42-fde4-66e6c6a21c4b"
      },
      "execution_count": 16,
      "outputs": [
        {
          "output_type": "stream",
          "name": "stdout",
          "text": [
            "Epoch 1/1000\n",
            "6/6 [==============================] - 2s 9ms/step - loss: 0.4806\n",
            "Epoch 2/1000\n",
            "6/6 [==============================] - 0s 8ms/step - loss: 0.4400\n",
            "Epoch 3/1000\n",
            "6/6 [==============================] - 0s 8ms/step - loss: 0.4021\n",
            "Epoch 4/1000\n",
            "6/6 [==============================] - 0s 8ms/step - loss: 0.3677\n",
            "Epoch 5/1000\n",
            "6/6 [==============================] - 0s 8ms/step - loss: 0.3361\n",
            "Epoch 6/1000\n",
            "6/6 [==============================] - 0s 8ms/step - loss: 0.3061\n",
            "Epoch 7/1000\n",
            "6/6 [==============================] - 0s 8ms/step - loss: 0.2800\n",
            "Epoch 8/1000\n",
            "6/6 [==============================] - 0s 8ms/step - loss: 0.2557\n",
            "Epoch 9/1000\n",
            "6/6 [==============================] - 0s 7ms/step - loss: 0.2326\n",
            "Epoch 10/1000\n",
            "6/6 [==============================] - 0s 9ms/step - loss: 0.2122\n",
            "Epoch 11/1000\n",
            "6/6 [==============================] - 0s 8ms/step - loss: 0.1934\n",
            "Epoch 12/1000\n",
            "6/6 [==============================] - 0s 8ms/step - loss: 0.1789\n",
            "Epoch 13/1000\n",
            "6/6 [==============================] - 0s 8ms/step - loss: 0.1651\n",
            "Epoch 14/1000\n",
            "6/6 [==============================] - 0s 8ms/step - loss: 0.1538\n",
            "Epoch 15/1000\n",
            "6/6 [==============================] - 0s 8ms/step - loss: 0.1434\n",
            "Epoch 16/1000\n",
            "6/6 [==============================] - 0s 8ms/step - loss: 0.1336\n",
            "Epoch 17/1000\n",
            "6/6 [==============================] - 0s 8ms/step - loss: 0.1242\n",
            "Epoch 18/1000\n",
            "6/6 [==============================] - 0s 8ms/step - loss: 0.1150\n",
            "Epoch 19/1000\n",
            "6/6 [==============================] - 0s 8ms/step - loss: 0.1059\n",
            "Epoch 20/1000\n",
            "6/6 [==============================] - 0s 8ms/step - loss: 0.0973\n",
            "Epoch 21/1000\n",
            "6/6 [==============================] - 0s 8ms/step - loss: 0.0887\n",
            "Epoch 22/1000\n",
            "6/6 [==============================] - 0s 9ms/step - loss: 0.0799\n",
            "Epoch 23/1000\n",
            "6/6 [==============================] - 0s 10ms/step - loss: 0.0710\n",
            "Epoch 24/1000\n",
            "6/6 [==============================] - 0s 8ms/step - loss: 0.0624\n",
            "Epoch 25/1000\n",
            "6/6 [==============================] - 0s 8ms/step - loss: 0.0534\n",
            "Epoch 26/1000\n",
            "6/6 [==============================] - 0s 7ms/step - loss: 0.0453\n",
            "Epoch 27/1000\n",
            "6/6 [==============================] - 0s 8ms/step - loss: 0.0375\n",
            "Epoch 28/1000\n",
            "6/6 [==============================] - 0s 9ms/step - loss: 0.0305\n",
            "Epoch 29/1000\n",
            "6/6 [==============================] - 0s 7ms/step - loss: 0.0242\n",
            "Epoch 30/1000\n",
            "6/6 [==============================] - 0s 8ms/step - loss: 0.0186\n",
            "Epoch 31/1000\n",
            "6/6 [==============================] - 0s 8ms/step - loss: 0.0143\n",
            "Epoch 32/1000\n",
            "6/6 [==============================] - 0s 8ms/step - loss: 0.0109\n",
            "Epoch 33/1000\n",
            "6/6 [==============================] - 0s 8ms/step - loss: 0.0084\n",
            "Epoch 34/1000\n",
            "6/6 [==============================] - 0s 7ms/step - loss: 0.0066\n",
            "Epoch 35/1000\n",
            "6/6 [==============================] - 0s 7ms/step - loss: 0.0055\n",
            "Epoch 36/1000\n",
            "6/6 [==============================] - 0s 8ms/step - loss: 0.0047\n",
            "Epoch 37/1000\n",
            "6/6 [==============================] - 0s 8ms/step - loss: 0.0040\n",
            "Epoch 38/1000\n",
            "6/6 [==============================] - 0s 7ms/step - loss: 0.0036\n",
            "Epoch 39/1000\n",
            "6/6 [==============================] - 0s 9ms/step - loss: 0.0031\n",
            "Epoch 40/1000\n",
            "6/6 [==============================] - 0s 7ms/step - loss: 0.0027\n",
            "Epoch 41/1000\n",
            "6/6 [==============================] - 0s 11ms/step - loss: 0.0024\n",
            "Epoch 42/1000\n",
            "6/6 [==============================] - 0s 8ms/step - loss: 0.0022\n",
            "Epoch 43/1000\n",
            "6/6 [==============================] - 0s 7ms/step - loss: 0.0020\n",
            "Epoch 44/1000\n",
            "6/6 [==============================] - 0s 8ms/step - loss: 0.0019\n",
            "Epoch 45/1000\n",
            "6/6 [==============================] - 0s 8ms/step - loss: 0.0017\n",
            "Epoch 46/1000\n",
            "6/6 [==============================] - 0s 7ms/step - loss: 0.0017\n",
            "Epoch 47/1000\n",
            "6/6 [==============================] - 0s 9ms/step - loss: 0.0016\n",
            "Epoch 48/1000\n",
            "6/6 [==============================] - 0s 7ms/step - loss: 0.0015\n",
            "Epoch 49/1000\n",
            "6/6 [==============================] - 0s 7ms/step - loss: 0.0014\n",
            "Epoch 50/1000\n",
            "6/6 [==============================] - 0s 7ms/step - loss: 0.0014\n",
            "Epoch 51/1000\n",
            "6/6 [==============================] - 0s 9ms/step - loss: 0.0013\n",
            "Epoch 52/1000\n",
            "6/6 [==============================] - 0s 8ms/step - loss: 0.0012\n",
            "Epoch 53/1000\n",
            "6/6 [==============================] - 0s 8ms/step - loss: 0.0012\n",
            "Epoch 54/1000\n",
            "6/6 [==============================] - 0s 8ms/step - loss: 0.0012\n",
            "Epoch 55/1000\n",
            "6/6 [==============================] - 0s 7ms/step - loss: 0.0011\n",
            "Epoch 56/1000\n",
            "6/6 [==============================] - 0s 8ms/step - loss: 0.0011\n",
            "Epoch 57/1000\n",
            "6/6 [==============================] - 0s 7ms/step - loss: 0.0010\n",
            "Epoch 58/1000\n",
            "6/6 [==============================] - 0s 8ms/step - loss: 9.6991e-04\n",
            "Epoch 59/1000\n",
            "6/6 [==============================] - 0s 7ms/step - loss: 9.4790e-04\n",
            "Epoch 60/1000\n",
            "6/6 [==============================] - 0s 7ms/step - loss: 8.8283e-04\n",
            "Epoch 61/1000\n",
            "6/6 [==============================] - 0s 7ms/step - loss: 8.6219e-04\n",
            "Epoch 62/1000\n",
            "6/6 [==============================] - 0s 7ms/step - loss: 8.3246e-04\n",
            "Epoch 63/1000\n",
            "6/6 [==============================] - 0s 8ms/step - loss: 7.9783e-04\n",
            "Epoch 64/1000\n",
            "6/6 [==============================] - 0s 7ms/step - loss: 7.7745e-04\n",
            "Epoch 65/1000\n",
            "6/6 [==============================] - 0s 9ms/step - loss: 7.4182e-04\n",
            "Epoch 66/1000\n",
            "6/6 [==============================] - 0s 8ms/step - loss: 7.1525e-04\n",
            "Epoch 67/1000\n",
            "6/6 [==============================] - 0s 7ms/step - loss: 7.0211e-04\n",
            "Epoch 68/1000\n",
            "6/6 [==============================] - 0s 7ms/step - loss: 6.7220e-04\n",
            "Epoch 69/1000\n",
            "6/6 [==============================] - 0s 7ms/step - loss: 6.4306e-04\n",
            "Epoch 70/1000\n",
            "6/6 [==============================] - 0s 9ms/step - loss: 6.3090e-04\n",
            "Epoch 71/1000\n",
            "6/6 [==============================] - 0s 7ms/step - loss: 6.0963e-04\n",
            "Epoch 72/1000\n",
            "6/6 [==============================] - 0s 7ms/step - loss: 5.8869e-04\n",
            "Epoch 73/1000\n",
            "6/6 [==============================] - 0s 8ms/step - loss: 5.6478e-04\n",
            "Epoch 74/1000\n",
            "6/6 [==============================] - 0s 8ms/step - loss: 5.4493e-04\n",
            "Epoch 75/1000\n",
            "6/6 [==============================] - 0s 9ms/step - loss: 5.2628e-04\n",
            "Epoch 76/1000\n",
            "6/6 [==============================] - 0s 8ms/step - loss: 5.0813e-04\n",
            "Epoch 77/1000\n",
            "6/6 [==============================] - 0s 7ms/step - loss: 4.9195e-04\n",
            "Epoch 78/1000\n",
            "6/6 [==============================] - 0s 8ms/step - loss: 4.7763e-04\n",
            "Epoch 79/1000\n",
            "6/6 [==============================] - 0s 7ms/step - loss: 4.6206e-04\n",
            "Epoch 80/1000\n",
            "6/6 [==============================] - 0s 8ms/step - loss: 4.5704e-04\n",
            "Epoch 81/1000\n",
            "6/6 [==============================] - 0s 7ms/step - loss: 4.3994e-04\n",
            "Epoch 82/1000\n",
            "6/6 [==============================] - 0s 7ms/step - loss: 4.3027e-04\n",
            "Epoch 83/1000\n",
            "6/6 [==============================] - 0s 9ms/step - loss: 4.0563e-04\n",
            "Epoch 84/1000\n",
            "6/6 [==============================] - 0s 8ms/step - loss: 4.0585e-04\n",
            "Epoch 85/1000\n",
            "6/6 [==============================] - 0s 8ms/step - loss: 3.7983e-04\n",
            "Epoch 86/1000\n",
            "6/6 [==============================] - 0s 8ms/step - loss: 3.8236e-04\n",
            "Epoch 87/1000\n",
            "6/6 [==============================] - 0s 8ms/step - loss: 3.6836e-04\n",
            "Epoch 88/1000\n",
            "6/6 [==============================] - 0s 7ms/step - loss: 3.4666e-04\n",
            "Epoch 89/1000\n",
            "6/6 [==============================] - 0s 7ms/step - loss: 3.3902e-04\n",
            "Epoch 90/1000\n",
            "6/6 [==============================] - 0s 9ms/step - loss: 3.2085e-04\n",
            "Epoch 91/1000\n",
            "6/6 [==============================] - 0s 9ms/step - loss: 3.1805e-04\n",
            "Epoch 92/1000\n",
            "6/6 [==============================] - 0s 8ms/step - loss: 3.2265e-04\n",
            "Epoch 93/1000\n",
            "6/6 [==============================] - 0s 8ms/step - loss: 2.9610e-04\n",
            "Epoch 94/1000\n",
            "6/6 [==============================] - 0s 8ms/step - loss: 2.8761e-04\n",
            "Epoch 95/1000\n",
            "6/6 [==============================] - 0s 7ms/step - loss: 2.7677e-04\n",
            "Epoch 96/1000\n",
            "6/6 [==============================] - 0s 8ms/step - loss: 2.6886e-04\n",
            "Epoch 97/1000\n",
            "6/6 [==============================] - 0s 8ms/step - loss: 2.5890e-04\n",
            "Epoch 98/1000\n",
            "6/6 [==============================] - 0s 8ms/step - loss: 2.5321e-04\n",
            "Epoch 99/1000\n",
            "6/6 [==============================] - 0s 8ms/step - loss: 2.4213e-04\n",
            "Epoch 100/1000\n",
            "6/6 [==============================] - 0s 8ms/step - loss: 2.3578e-04\n",
            "Epoch 101/1000\n",
            "6/6 [==============================] - 0s 10ms/step - loss: 2.3009e-04\n",
            "Epoch 102/1000\n",
            "6/6 [==============================] - 0s 7ms/step - loss: 2.2732e-04\n",
            "Epoch 103/1000\n",
            "6/6 [==============================] - 0s 11ms/step - loss: 2.1508e-04\n",
            "Epoch 104/1000\n",
            "6/6 [==============================] - 0s 8ms/step - loss: 2.0729e-04\n",
            "Epoch 105/1000\n",
            "6/6 [==============================] - 0s 7ms/step - loss: 2.0305e-04\n",
            "Epoch 106/1000\n",
            "6/6 [==============================] - 0s 7ms/step - loss: 1.9550e-04\n",
            "Epoch 107/1000\n",
            "6/6 [==============================] - 0s 8ms/step - loss: 1.8702e-04\n",
            "Epoch 108/1000\n",
            "6/6 [==============================] - 0s 8ms/step - loss: 1.8293e-04\n",
            "Epoch 109/1000\n",
            "6/6 [==============================] - 0s 8ms/step - loss: 1.7721e-04\n",
            "Epoch 110/1000\n",
            "6/6 [==============================] - 0s 8ms/step - loss: 1.7121e-04\n",
            "Epoch 111/1000\n",
            "6/6 [==============================] - 0s 9ms/step - loss: 1.6878e-04\n",
            "Epoch 112/1000\n",
            "6/6 [==============================] - 0s 9ms/step - loss: 1.6352e-04\n",
            "Epoch 113/1000\n",
            "6/6 [==============================] - 0s 8ms/step - loss: 1.5531e-04\n",
            "Epoch 114/1000\n",
            "6/6 [==============================] - 0s 7ms/step - loss: 1.5086e-04\n",
            "Epoch 115/1000\n",
            "6/6 [==============================] - 0s 7ms/step - loss: 1.4761e-04\n",
            "Epoch 116/1000\n",
            "6/6 [==============================] - 0s 7ms/step - loss: 1.4061e-04\n",
            "Epoch 117/1000\n",
            "6/6 [==============================] - 0s 9ms/step - loss: 1.3658e-04\n",
            "Epoch 118/1000\n",
            "6/6 [==============================] - 0s 7ms/step - loss: 1.3240e-04\n",
            "Epoch 119/1000\n",
            "6/6 [==============================] - 0s 9ms/step - loss: 1.2840e-04\n",
            "Epoch 120/1000\n",
            "6/6 [==============================] - 0s 8ms/step - loss: 1.2510e-04\n",
            "Epoch 121/1000\n",
            "6/6 [==============================] - 0s 8ms/step - loss: 1.2183e-04\n",
            "Epoch 122/1000\n",
            "6/6 [==============================] - 0s 7ms/step - loss: 1.2011e-04\n",
            "Epoch 123/1000\n",
            "6/6 [==============================] - 0s 8ms/step - loss: 1.1422e-04\n",
            "Epoch 124/1000\n",
            "6/6 [==============================] - 0s 8ms/step - loss: 1.1022e-04\n",
            "Epoch 125/1000\n",
            "6/6 [==============================] - 0s 8ms/step - loss: 1.0659e-04\n",
            "Epoch 126/1000\n",
            "6/6 [==============================] - 0s 8ms/step - loss: 1.0316e-04\n",
            "Epoch 127/1000\n",
            "6/6 [==============================] - 0s 8ms/step - loss: 9.8968e-05\n",
            "Epoch 128/1000\n",
            "6/6 [==============================] - 0s 7ms/step - loss: 9.6170e-05\n",
            "Epoch 129/1000\n",
            "6/6 [==============================] - 0s 8ms/step - loss: 9.3745e-05\n",
            "Epoch 130/1000\n",
            "6/6 [==============================] - 0s 8ms/step - loss: 8.9989e-05\n",
            "Epoch 131/1000\n",
            "6/6 [==============================] - 0s 7ms/step - loss: 8.7839e-05\n",
            "Epoch 132/1000\n",
            "6/6 [==============================] - 0s 8ms/step - loss: 8.7244e-05\n",
            "Epoch 133/1000\n",
            "6/6 [==============================] - 0s 8ms/step - loss: 8.4068e-05\n",
            "Epoch 134/1000\n",
            "6/6 [==============================] - 0s 8ms/step - loss: 7.8875e-05\n",
            "Epoch 135/1000\n",
            "6/6 [==============================] - 0s 8ms/step - loss: 7.8528e-05\n",
            "Epoch 136/1000\n",
            "6/6 [==============================] - 0s 8ms/step - loss: 7.4008e-05\n",
            "Epoch 137/1000\n",
            "6/6 [==============================] - 0s 9ms/step - loss: 7.4007e-05\n",
            "Epoch 138/1000\n",
            "6/6 [==============================] - 0s 7ms/step - loss: 6.8877e-05\n",
            "Epoch 139/1000\n",
            "6/6 [==============================] - 0s 8ms/step - loss: 6.7241e-05\n",
            "Epoch 140/1000\n",
            "6/6 [==============================] - 0s 9ms/step - loss: 6.5819e-05\n",
            "Epoch 141/1000\n",
            "6/6 [==============================] - 0s 8ms/step - loss: 6.4299e-05\n",
            "Epoch 142/1000\n",
            "6/6 [==============================] - 0s 8ms/step - loss: 6.3380e-05\n",
            "Epoch 143/1000\n",
            "6/6 [==============================] - 0s 8ms/step - loss: 6.0696e-05\n",
            "Epoch 144/1000\n",
            "6/6 [==============================] - 0s 7ms/step - loss: 5.7077e-05\n",
            "Epoch 145/1000\n",
            "6/6 [==============================] - 0s 8ms/step - loss: 5.6908e-05\n",
            "Epoch 146/1000\n",
            "6/6 [==============================] - 0s 9ms/step - loss: 5.3131e-05\n",
            "Epoch 147/1000\n",
            "6/6 [==============================] - 0s 7ms/step - loss: 5.2342e-05\n",
            "Epoch 148/1000\n",
            "6/6 [==============================] - 0s 8ms/step - loss: 5.0096e-05\n",
            "Epoch 149/1000\n",
            "6/6 [==============================] - 0s 8ms/step - loss: 5.0090e-05\n",
            "Epoch 150/1000\n",
            "6/6 [==============================] - 0s 8ms/step - loss: 4.9279e-05\n",
            "Epoch 151/1000\n",
            "6/6 [==============================] - 0s 8ms/step - loss: 4.6448e-05\n",
            "Epoch 152/1000\n",
            "6/6 [==============================] - 0s 8ms/step - loss: 4.4694e-05\n",
            "Epoch 153/1000\n",
            "6/6 [==============================] - 0s 7ms/step - loss: 4.3448e-05\n",
            "Epoch 154/1000\n",
            "6/6 [==============================] - 0s 8ms/step - loss: 4.4897e-05\n",
            "Epoch 155/1000\n",
            "6/6 [==============================] - 0s 9ms/step - loss: 4.1422e-05\n",
            "Epoch 156/1000\n",
            "6/6 [==============================] - 0s 7ms/step - loss: 4.1131e-05\n",
            "Epoch 157/1000\n",
            "6/6 [==============================] - 0s 8ms/step - loss: 3.6609e-05\n",
            "Epoch 158/1000\n",
            "6/6 [==============================] - 0s 8ms/step - loss: 3.6395e-05\n",
            "Epoch 159/1000\n",
            "6/6 [==============================] - 0s 10ms/step - loss: 3.6650e-05\n",
            "Epoch 160/1000\n",
            "6/6 [==============================] - 0s 9ms/step - loss: 3.4266e-05\n",
            "Epoch 161/1000\n",
            "6/6 [==============================] - 0s 7ms/step - loss: 3.2047e-05\n",
            "Epoch 162/1000\n",
            "6/6 [==============================] - 0s 8ms/step - loss: 3.2608e-05\n",
            "Epoch 163/1000\n",
            "6/6 [==============================] - 0s 8ms/step - loss: 3.3037e-05\n",
            "Epoch 164/1000\n",
            "6/6 [==============================] - 0s 7ms/step - loss: 3.0648e-05\n",
            "Epoch 165/1000\n",
            "6/6 [==============================] - 0s 7ms/step - loss: 2.9135e-05\n",
            "Epoch 166/1000\n",
            "6/6 [==============================] - 0s 8ms/step - loss: 2.7421e-05\n",
            "Epoch 167/1000\n",
            "6/6 [==============================] - 0s 8ms/step - loss: 2.6702e-05\n",
            "Epoch 168/1000\n",
            "6/6 [==============================] - 0s 8ms/step - loss: 2.7197e-05\n",
            "Epoch 169/1000\n",
            "6/6 [==============================] - 0s 8ms/step - loss: 2.7025e-05\n",
            "Epoch 170/1000\n",
            "6/6 [==============================] - 0s 7ms/step - loss: 2.4682e-05\n",
            "Epoch 171/1000\n",
            "6/6 [==============================] - 0s 7ms/step - loss: 2.3848e-05\n",
            "Epoch 172/1000\n",
            "6/6 [==============================] - 0s 7ms/step - loss: 2.2932e-05\n",
            "Epoch 173/1000\n",
            "6/6 [==============================] - 0s 10ms/step - loss: 2.2409e-05\n",
            "Epoch 174/1000\n",
            "6/6 [==============================] - 0s 7ms/step - loss: 2.1961e-05\n",
            "Epoch 175/1000\n",
            "6/6 [==============================] - 0s 7ms/step - loss: 2.2107e-05\n",
            "Epoch 176/1000\n",
            "6/6 [==============================] - 0s 8ms/step - loss: 2.0589e-05\n",
            "Epoch 177/1000\n",
            "6/6 [==============================] - 0s 8ms/step - loss: 2.0151e-05\n",
            "Epoch 178/1000\n",
            "6/6 [==============================] - 0s 9ms/step - loss: 2.0057e-05\n",
            "Epoch 179/1000\n",
            "6/6 [==============================] - 0s 7ms/step - loss: 1.9187e-05\n",
            "Epoch 180/1000\n",
            "6/6 [==============================] - 0s 7ms/step - loss: 1.6902e-05\n",
            "Epoch 181/1000\n",
            "6/6 [==============================] - 0s 7ms/step - loss: 1.7093e-05\n",
            "Epoch 182/1000\n",
            "6/6 [==============================] - 0s 7ms/step - loss: 1.6438e-05\n",
            "Epoch 183/1000\n",
            "6/6 [==============================] - 0s 8ms/step - loss: 1.6884e-05\n",
            "Epoch 184/1000\n",
            "6/6 [==============================] - 0s 7ms/step - loss: 1.5302e-05\n",
            "Epoch 185/1000\n",
            "6/6 [==============================] - 0s 7ms/step - loss: 1.4471e-05\n",
            "Epoch 186/1000\n",
            "6/6 [==============================] - 0s 7ms/step - loss: 1.3993e-05\n",
            "Epoch 187/1000\n",
            "6/6 [==============================] - 0s 8ms/step - loss: 1.3474e-05\n",
            "Epoch 188/1000\n",
            "6/6 [==============================] - 0s 7ms/step - loss: 1.3478e-05\n",
            "Epoch 189/1000\n",
            "6/6 [==============================] - 0s 8ms/step - loss: 1.2564e-05\n",
            "Epoch 190/1000\n",
            "6/6 [==============================] - 0s 7ms/step - loss: 1.2284e-05\n",
            "Epoch 191/1000\n",
            "6/6 [==============================] - 0s 9ms/step - loss: 1.2771e-05\n",
            "Epoch 192/1000\n",
            "6/6 [==============================] - 0s 7ms/step - loss: 1.3187e-05\n",
            "Epoch 193/1000\n",
            "6/6 [==============================] - 0s 8ms/step - loss: 1.1492e-05\n",
            "Epoch 194/1000\n",
            "6/6 [==============================] - 0s 8ms/step - loss: 1.1617e-05\n",
            "Epoch 195/1000\n",
            "6/6 [==============================] - 0s 8ms/step - loss: 1.0591e-05\n",
            "Epoch 196/1000\n",
            "6/6 [==============================] - 0s 8ms/step - loss: 1.0002e-05\n",
            "Epoch 197/1000\n",
            "6/6 [==============================] - 0s 8ms/step - loss: 9.7973e-06\n",
            "Epoch 198/1000\n",
            "6/6 [==============================] - 0s 7ms/step - loss: 9.4616e-06\n",
            "Epoch 199/1000\n",
            "6/6 [==============================] - 0s 8ms/step - loss: 9.0954e-06\n",
            "Epoch 200/1000\n",
            "6/6 [==============================] - 0s 7ms/step - loss: 9.0508e-06\n",
            "Epoch 201/1000\n",
            "6/6 [==============================] - 0s 7ms/step - loss: 8.4311e-06\n",
            "Epoch 202/1000\n",
            "6/6 [==============================] - 0s 7ms/step - loss: 8.3242e-06\n",
            "Epoch 203/1000\n",
            "6/6 [==============================] - 0s 8ms/step - loss: 8.1695e-06\n",
            "Epoch 204/1000\n",
            "6/6 [==============================] - 0s 8ms/step - loss: 8.0499e-06\n",
            "Epoch 205/1000\n",
            "6/6 [==============================] - 0s 7ms/step - loss: 7.5345e-06\n",
            "Epoch 206/1000\n",
            "6/6 [==============================] - 0s 8ms/step - loss: 7.4434e-06\n",
            "Epoch 207/1000\n",
            "6/6 [==============================] - 0s 7ms/step - loss: 7.4475e-06\n",
            "Epoch 208/1000\n",
            "6/6 [==============================] - 0s 7ms/step - loss: 7.0852e-06\n",
            "Epoch 209/1000\n",
            "6/6 [==============================] - 0s 12ms/step - loss: 6.7924e-06\n",
            "Epoch 210/1000\n",
            "6/6 [==============================] - 0s 9ms/step - loss: 6.7275e-06\n",
            "Epoch 211/1000\n",
            "6/6 [==============================] - 0s 9ms/step - loss: 6.7598e-06\n",
            "Epoch 212/1000\n",
            "6/6 [==============================] - 0s 8ms/step - loss: 6.1204e-06\n",
            "Epoch 213/1000\n",
            "6/6 [==============================] - 0s 7ms/step - loss: 6.0953e-06\n",
            "Epoch 214/1000\n",
            "6/6 [==============================] - 0s 8ms/step - loss: 5.7593e-06\n",
            "Epoch 215/1000\n",
            "6/6 [==============================] - 0s 8ms/step - loss: 5.8792e-06\n",
            "Epoch 216/1000\n",
            "6/6 [==============================] - 0s 8ms/step - loss: 5.4000e-06\n",
            "Epoch 217/1000\n",
            "6/6 [==============================] - 0s 7ms/step - loss: 5.1825e-06\n",
            "Epoch 218/1000\n",
            "6/6 [==============================] - 0s 8ms/step - loss: 5.2041e-06\n",
            "Epoch 219/1000\n",
            "6/6 [==============================] - 0s 8ms/step - loss: 4.8501e-06\n",
            "Epoch 220/1000\n",
            "6/6 [==============================] - 0s 8ms/step - loss: 4.7182e-06\n",
            "Epoch 221/1000\n",
            "6/6 [==============================] - 0s 7ms/step - loss: 4.6627e-06\n",
            "Epoch 222/1000\n",
            "6/6 [==============================] - 0s 8ms/step - loss: 4.7997e-06\n",
            "Epoch 223/1000\n",
            "6/6 [==============================] - 0s 7ms/step - loss: 4.8640e-06\n",
            "Epoch 224/1000\n",
            "6/6 [==============================] - 0s 8ms/step - loss: 5.1912e-06\n",
            "Epoch 225/1000\n",
            "6/6 [==============================] - 0s 9ms/step - loss: 4.4697e-06\n",
            "Epoch 226/1000\n",
            "6/6 [==============================] - 0s 8ms/step - loss: 4.1997e-06\n",
            "Epoch 227/1000\n",
            "6/6 [==============================] - 0s 8ms/step - loss: 3.8899e-06\n",
            "Epoch 228/1000\n",
            "6/6 [==============================] - 0s 7ms/step - loss: 4.0340e-06\n",
            "Epoch 229/1000\n",
            "6/6 [==============================] - 0s 7ms/step - loss: 3.9444e-06\n",
            "Epoch 230/1000\n",
            "6/6 [==============================] - 0s 8ms/step - loss: 3.5483e-06\n",
            "Epoch 231/1000\n",
            "6/6 [==============================] - 0s 8ms/step - loss: 3.5999e-06\n",
            "Epoch 232/1000\n",
            "6/6 [==============================] - 0s 7ms/step - loss: 3.5472e-06\n",
            "Epoch 233/1000\n",
            "6/6 [==============================] - 0s 9ms/step - loss: 3.2893e-06\n",
            "Epoch 234/1000\n",
            "6/6 [==============================] - 0s 7ms/step - loss: 3.2695e-06\n",
            "Epoch 235/1000\n",
            "6/6 [==============================] - 0s 7ms/step - loss: 3.1801e-06\n",
            "Epoch 236/1000\n",
            "6/6 [==============================] - 0s 9ms/step - loss: 3.2038e-06\n",
            "Epoch 237/1000\n",
            "6/6 [==============================] - 0s 7ms/step - loss: 3.1996e-06\n",
            "Epoch 238/1000\n",
            "6/6 [==============================] - 0s 7ms/step - loss: 3.1878e-06\n",
            "Epoch 239/1000\n",
            "6/6 [==============================] - 0s 8ms/step - loss: 2.9133e-06\n",
            "Epoch 240/1000\n",
            "6/6 [==============================] - 0s 8ms/step - loss: 2.8734e-06\n",
            "Epoch 241/1000\n",
            "6/6 [==============================] - 0s 7ms/step - loss: 2.7798e-06\n",
            "Epoch 242/1000\n",
            "6/6 [==============================] - 0s 7ms/step - loss: 2.7400e-06\n",
            "Epoch 243/1000\n",
            "6/6 [==============================] - 0s 8ms/step - loss: 2.6735e-06\n",
            "Epoch 244/1000\n",
            "6/6 [==============================] - 0s 7ms/step - loss: 2.6777e-06\n",
            "Epoch 245/1000\n",
            "6/6 [==============================] - 0s 10ms/step - loss: 2.8679e-06\n",
            "Epoch 246/1000\n",
            "6/6 [==============================] - 0s 8ms/step - loss: 2.7308e-06\n",
            "Epoch 247/1000\n",
            "6/6 [==============================] - 0s 8ms/step - loss: 2.6277e-06\n",
            "Epoch 248/1000\n",
            "6/6 [==============================] - 0s 8ms/step - loss: 2.5602e-06\n",
            "Epoch 249/1000\n",
            "6/6 [==============================] - 0s 7ms/step - loss: 2.4194e-06\n",
            "Epoch 250/1000\n",
            "6/6 [==============================] - 0s 8ms/step - loss: 2.3358e-06\n",
            "Epoch 251/1000\n",
            "6/6 [==============================] - 0s 8ms/step - loss: 2.3177e-06\n",
            "Epoch 252/1000\n",
            "6/6 [==============================] - 0s 7ms/step - loss: 2.3536e-06\n",
            "Epoch 253/1000\n",
            "6/6 [==============================] - 0s 7ms/step - loss: 2.2673e-06\n",
            "Epoch 254/1000\n",
            "6/6 [==============================] - 0s 7ms/step - loss: 2.2100e-06\n",
            "Epoch 255/1000\n",
            "6/6 [==============================] - 0s 8ms/step - loss: 2.1625e-06\n",
            "Epoch 256/1000\n",
            "6/6 [==============================] - 0s 8ms/step - loss: 2.1475e-06\n",
            "Epoch 257/1000\n",
            "6/6 [==============================] - 0s 7ms/step - loss: 2.1160e-06\n",
            "Epoch 258/1000\n",
            "6/6 [==============================] - 0s 8ms/step - loss: 2.1518e-06\n",
            "Epoch 259/1000\n",
            "6/6 [==============================] - 0s 8ms/step - loss: 2.0317e-06\n",
            "Epoch 260/1000\n",
            "6/6 [==============================] - 0s 7ms/step - loss: 2.1625e-06\n",
            "Epoch 261/1000\n",
            "6/6 [==============================] - 0s 7ms/step - loss: 1.9582e-06\n",
            "Epoch 262/1000\n",
            "6/6 [==============================] - 0s 7ms/step - loss: 1.9899e-06\n",
            "Epoch 263/1000\n",
            "6/6 [==============================] - 0s 11ms/step - loss: 1.9097e-06\n",
            "Epoch 264/1000\n",
            "6/6 [==============================] - 0s 8ms/step - loss: 1.8960e-06\n",
            "Epoch 265/1000\n",
            "6/6 [==============================] - 0s 7ms/step - loss: 2.0014e-06\n",
            "Epoch 266/1000\n",
            "6/6 [==============================] - 0s 7ms/step - loss: 2.0640e-06\n",
            "Epoch 267/1000\n",
            "6/6 [==============================] - 0s 8ms/step - loss: 1.9706e-06\n",
            "Epoch 268/1000\n",
            "6/6 [==============================] - 0s 8ms/step - loss: 1.9632e-06\n",
            "Epoch 269/1000\n",
            "6/6 [==============================] - 0s 8ms/step - loss: 1.8908e-06\n",
            "Epoch 270/1000\n",
            "6/6 [==============================] - 0s 8ms/step - loss: 1.8950e-06\n",
            "Epoch 271/1000\n",
            "6/6 [==============================] - 0s 7ms/step - loss: 1.7981e-06\n",
            "Epoch 272/1000\n",
            "6/6 [==============================] - 0s 7ms/step - loss: 1.7528e-06\n",
            "Epoch 273/1000\n",
            "6/6 [==============================] - 0s 8ms/step - loss: 1.7647e-06\n",
            "Epoch 274/1000\n",
            "6/6 [==============================] - 0s 8ms/step - loss: 1.8380e-06\n",
            "Epoch 275/1000\n",
            "6/6 [==============================] - 0s 8ms/step - loss: 1.7554e-06\n",
            "Epoch 276/1000\n",
            "6/6 [==============================] - 0s 7ms/step - loss: 1.7980e-06\n",
            "Epoch 277/1000\n",
            "6/6 [==============================] - 0s 7ms/step - loss: 1.9571e-06\n"
          ]
        }
      ]
    },
    {
      "cell_type": "markdown",
      "source": [
        "loss 그래프 생성"
      ],
      "metadata": {
        "id": "7VbwjBTM5H37"
      }
    },
    {
      "cell_type": "code",
      "source": [
        "plt.plot(history_lstm.history['loss'],label='loss')\n",
        "plt.legend(loc='upper right')\n",
        "plt.show()"
      ],
      "metadata": {
        "colab": {
          "base_uri": "https://localhost:8080/",
          "height": 267
        },
        "id": "zb4mUaoT3Xzf",
        "outputId": "a2d740c5-678f-477c-f31d-ae68a56f79dc"
      },
      "execution_count": 17,
      "outputs": [
        {
          "output_type": "display_data",
          "data": {
            "text/plain": [
              "<Figure size 432x288 with 1 Axes>"
            ],
            "image/png": "[encoded data removed]"
          },
          "metadata": {
            "needs_background": "light"
          }
        }
      ]
    },
    {
      "cell_type": "markdown",
      "source": [
        "테스트 데이터셋 생성"
      ],
      "metadata": {
        "id": "RdOkArA05KAI"
      }
    },
    {
      "cell_type": "code",
      "source": [
        "test_x=np.arange(10,20,0.1)\n",
        "calc_y=np.cos(test_x)"
      ],
      "metadata": {
        "id": "StuOFqOW4-YZ"
      },
      "execution_count": 18,
      "outputs": []
    },
    {
      "cell_type": "markdown",
      "source": [
        "lstm 모델 예측 및 로그 저장"
      ],
      "metadata": {
        "id": "yEgh6YkC5SI-"
      }
    },
    {
      "cell_type": "code",
      "source": [
        "test_y=calc_y[:n_timesteps]\n",
        "for i in range(len(test_x)-n_timesteps):\n",
        "  net_input=test_y[i:i+n_timesteps]\n",
        "  net_input=net_input.reshape((1,n_timesteps,n_feature))\n",
        "  train_y=model.predict(net_input,verbose=0)\n",
        "  print(test_y.shape,train_y.shape,i,i+n_timesteps)\n",
        "  test_y=np.append(test_y,train_y)"
      ],
      "metadata": {
        "colab": {
          "base_uri": "https://localhost:8080/"
        },
        "id": "wv9UuEsw5O5r",
        "outputId": "4043b66e-6219-48cd-c019-d9dfe2df83a1"
      },
      "execution_count": 19,
      "outputs": [
        {
          "output_type": "stream",
          "name": "stdout",
          "text": [
            "(15,) (1, 1) 0 15\n",
            "(16,) (1, 1) 1 16\n",
            "(17,) (1, 1) 2 17\n",
            "(18,) (1, 1) 3 18\n",
            "(19,) (1, 1) 4 19\n",
            "(20,) (1, 1) 5 20\n",
            "(21,) (1, 1) 6 21\n",
            "(22,) (1, 1) 7 22\n",
            "(23,) (1, 1) 8 23\n",
            "(24,) (1, 1) 9 24\n",
            "(25,) (1, 1) 10 25\n",
            "(26,) (1, 1) 11 26\n",
            "(27,) (1, 1) 12 27\n",
            "(28,) (1, 1) 13 28\n",
            "(29,) (1, 1) 14 29\n",
            "(30,) (1, 1) 15 30\n",
            "(31,) (1, 1) 16 31\n",
            "(32,) (1, 1) 17 32\n",
            "(33,) (1, 1) 18 33\n",
            "(34,) (1, 1) 19 34\n",
            "(35,) (1, 1) 20 35\n",
            "(36,) (1, 1) 21 36\n",
            "(37,) (1, 1) 22 37\n",
            "(38,) (1, 1) 23 38\n",
            "(39,) (1, 1) 24 39\n",
            "(40,) (1, 1) 25 40\n",
            "(41,) (1, 1) 26 41\n",
            "(42,) (1, 1) 27 42\n",
            "(43,) (1, 1) 28 43\n",
            "(44,) (1, 1) 29 44\n",
            "(45,) (1, 1) 30 45\n",
            "(46,) (1, 1) 31 46\n",
            "(47,) (1, 1) 32 47\n",
            "(48,) (1, 1) 33 48\n",
            "(49,) (1, 1) 34 49\n",
            "(50,) (1, 1) 35 50\n",
            "(51,) (1, 1) 36 51\n",
            "(52,) (1, 1) 37 52\n",
            "(53,) (1, 1) 38 53\n",
            "(54,) (1, 1) 39 54\n",
            "(55,) (1, 1) 40 55\n",
            "(56,) (1, 1) 41 56\n",
            "(57,) (1, 1) 42 57\n",
            "(58,) (1, 1) 43 58\n",
            "(59,) (1, 1) 44 59\n",
            "(60,) (1, 1) 45 60\n",
            "(61,) (1, 1) 46 61\n",
            "(62,) (1, 1) 47 62\n",
            "(63,) (1, 1) 48 63\n",
            "(64,) (1, 1) 49 64\n",
            "(65,) (1, 1) 50 65\n",
            "(66,) (1, 1) 51 66\n",
            "(67,) (1, 1) 52 67\n",
            "(68,) (1, 1) 53 68\n",
            "(69,) (1, 1) 54 69\n",
            "(70,) (1, 1) 55 70\n",
            "(71,) (1, 1) 56 71\n",
            "(72,) (1, 1) 57 72\n",
            "(73,) (1, 1) 58 73\n",
            "(74,) (1, 1) 59 74\n",
            "(75,) (1, 1) 60 75\n",
            "(76,) (1, 1) 61 76\n",
            "(77,) (1, 1) 62 77\n",
            "(78,) (1, 1) 63 78\n",
            "(79,) (1, 1) 64 79\n",
            "(80,) (1, 1) 65 80\n",
            "(81,) (1, 1) 66 81\n",
            "(82,) (1, 1) 67 82\n",
            "(83,) (1, 1) 68 83\n",
            "(84,) (1, 1) 69 84\n",
            "(85,) (1, 1) 70 85\n",
            "(86,) (1, 1) 71 86\n",
            "(87,) (1, 1) 72 87\n",
            "(88,) (1, 1) 73 88\n",
            "(89,) (1, 1) 74 89\n",
            "(90,) (1, 1) 75 90\n",
            "(91,) (1, 1) 76 91\n",
            "(92,) (1, 1) 77 92\n",
            "(93,) (1, 1) 78 93\n",
            "(94,) (1, 1) 79 94\n",
            "(95,) (1, 1) 80 95\n",
            "(96,) (1, 1) 81 96\n",
            "(97,) (1, 1) 82 97\n",
            "(98,) (1, 1) 83 98\n",
            "(99,) (1, 1) 84 99\n"
          ]
        }
      ]
    },
    {
      "cell_type": "markdown",
      "source": [
        "예측 결과 그래프 그리기"
      ],
      "metadata": {
        "id": "DXjJujTb5fhx"
      }
    },
    {
      "cell_type": "code",
      "source": [
        "plt.plot(test_x,calc_y,label='ground truth',color='orange')\n",
        "plt.plot(test_x,test_y,label='precitions',color='blue')\n",
        "plt.legend(loc='upper left')\n",
        "plt.ylim(-2,2)\n",
        "plt.show()"
      ],
      "metadata": {
        "colab": {
          "base_uri": "https://localhost:8080/",
          "height": 269
        },
        "id": "6jMNP8UB5YbP",
        "outputId": "c933470f-92da-44d2-d193-416f64a119b4"
      },
      "execution_count": 20,
      "outputs": [
        {
          "output_type": "display_data",
          "data": {
            "text/plain": [
              "<Figure size 432x288 with 1 Axes>"
            ],
            "image/png": "[encoded data removed]"
          },
          "metadata": {
            "needs_background": "light"
          }
        }
      ]
    },
    {
      "cell_type": "code",
      "source": [],
      "metadata": {
        "id": "sptESt2u5jw0"
      },
      "execution_count": 20,
      "outputs": []
    }
  ]
}